{
 "cells": [
  {
   "cell_type": "markdown",
   "id": "72904daa",
   "metadata": {},
   "source": [
    "# Resume Assistant"
   ]
  },
  {
   "cell_type": "markdown",
   "id": "3e3a55b7",
   "metadata": {},
   "source": [
    "_A Streamlit application_ based in _RAG framework_, which utilizes custom _LangChain prompts_ to retrieve information from the uploaded _resume_."
   ]
  },
  {
   "cell_type": "markdown",
   "id": "cef4c2b8",
   "metadata": {},
   "source": [
    "RAG- Retrieval-Augmented Generation an approach that combines document retrieval using LLMs, providing contextually relevant, accurate responses.\n",
    "\n",
    "LangChain- Architecture leveraged to integrate custom prompts with OpenAI's gpt-3.5-turbo and retrieve relavant documents to support RAG."
   ]
  },
  {
   "cell_type": "markdown",
   "id": "ddded04b",
   "metadata": {},
   "source": [
    "Defining a function to create a temporary file out of the uploaded file on Streamlit and extracting its text."
   ]
  },
  {
   "cell_type": "code",
   "execution_count": null,
   "id": "cb607967",
   "metadata": {},
   "outputs": [],
   "source": [
    "import fitz\n",
    "\n",
    "def funcExtractPDFText(strPDFPath):\n",
    "    \n",
    "    with open(\"tempResume.pdf\",\"wb\") as f:\n",
    "        f.write(strPDFPath.getbuffer())\n",
    "\n",
    "    strExtractedText=\"\"\n",
    "    filePDF=fitz.open(\"tempResume.pdf\")\n",
    "    for pg in filePDF:\n",
    "        strExtractedText+=pg.get_text(\"text\")\n",
    "    return strExtractedText"
   ]
  },
  {
   "cell_type": "markdown",
   "id": "3fb361c7",
   "metadata": {},
   "source": [
    "Extracting text and formatting to document for Chroma DB"
   ]
  },
  {
   "cell_type": "code",
   "execution_count": null,
   "id": "78316bbf",
   "metadata": {},
   "outputs": [],
   "source": [
    "from langchain.schema import Document\n",
    "\n",
    "fileUploaded=r\"D:\\Projects\\ragForResume\\Vaibhav Thakur.pdf\"\n",
    "strResRawTxt=funcExtractPDFText(fileUploaded)\n",
    "\n",
    "docFormatted=[Document(page_content=strResRawTxt)]"
   ]
  },
  {
   "cell_type": "markdown",
   "id": "59370668",
   "metadata": {},
   "source": [
    "Defining environment variables for LangSmith and OpenAI"
   ]
  },
  {
   "cell_type": "code",
   "execution_count": null,
   "id": "e053d9c7",
   "metadata": {
    "vscode": {
     "languageId": "plaintext"
    }
   },
   "outputs": [],
   "source": [
    "import os\n",
    "\n",
    "os.environ[\"LANGSMITH_TRACING_V2\"] = \"true\"\n",
    "os.environ[\"LANGSMITH_ENDPOINT\"] = \"https://api.smith.langchain.com\"\n",
    "os.environ[\"LANGSMITH_API_KEY\"] = \"\"\n",
    "os.environ[\"LANGSMITH_PROJECT\"]=\"ragAppForDocs\"\n",
    "os.environ[\"OPENAI_API_KEY\"] = \"\""
   ]
  },
  {
   "cell_type": "markdown",
   "id": "243eb0e3",
   "metadata": {},
   "source": [
    "Fetching custom prompt defined in LangSmith and defining LLM to be used."
   ]
  },
  {
   "cell_type": "code",
   "execution_count": null,
   "id": "88750cdc",
   "metadata": {},
   "outputs": [],
   "source": [
    "from langsmith import Client\n",
    "from langchain_openai import ChatOpenAI\n",
    "\n",
    "objResAstPrompt=Client().pull_prompt(\"rag-for-resume1\")\n",
    "\n",
    "objLLM=ChatOpenAI(model_name=\"gpt-3.5-turbo\", temperature=0)"
   ]
  },
  {
   "cell_type": "markdown",
   "id": "191eabea",
   "metadata": {},
   "source": [
    "Function to define a Rag chain composed of:\n",
    "1. Chroma DB for vectorization of the document using Open AI Embeddings.\n",
    "2. Constructing a retriever object that uses vectorstore to retrieve documents.\n",
    "3. Ultimately creating a chain of retriever, prompt template, and gpt-3.5-turbo (LLM)."
   ]
  },
  {
   "cell_type": "code",
   "execution_count": null,
   "id": "b6f764ed",
   "metadata": {},
   "outputs": [],
   "source": [
    "def funcDefRagChain(objDoc):\n",
    "\n",
    "    objVectorStore=Chroma.from_documents(documents=objDoc, embedding=OpenAIEmbeddings())\n",
    "    objRetriever=objVectorStore.as_retriever()\n",
    "    objRagChain=create_retrieval_chain(\n",
    "            retriever=objRetriever,\n",
    "            combine_docs_chain=objResAstPrompt | objLLM\n",
    "            )\n",
    "    return objRagChain"
   ]
  },
  {
   "cell_type": "markdown",
   "id": "43e13208",
   "metadata": {},
   "source": [
    "Function to generate response based on question asked, using chain constructed above."
   ]
  },
  {
   "cell_type": "code",
   "execution_count": null,
   "id": "a847cea3",
   "metadata": {},
   "outputs": [],
   "source": [
    "strQuestion=\"What is the name on the resume?\"\n",
    "\n",
    "def funcGenResponse(inStrQuestion, inObjRagChain):\n",
    "    \n",
    "    dictResponse=inObjRagChain.invoke({\"input\":inStrQuestion})\n",
    "    return dictResponse[\"answer\"].content"
   ]
  },
  {
   "cell_type": "code",
   "execution_count": null,
   "id": "8c9d8ddd",
   "metadata": {},
   "outputs": [],
   "source": [
    "strAnswer=funcGenResponse(strQuestion,objRagChain)\n",
    "strAnswer"
   ]
  },
  {
   "cell_type": "code",
   "execution_count": null,
   "id": "36b15997",
   "metadata": {},
   "outputs": [],
   "source": []
  }
 ],
 "metadata": {
  "kernelspec": {
   "display_name": "Python 3 (ipykernel)",
   "language": "python",
   "name": "python3"
  },
  "language_info": {
   "codemirror_mode": {
    "name": "ipython",
    "version": 3
   },
   "file_extension": ".py",
   "mimetype": "text/x-python",
   "name": "python",
   "nbconvert_exporter": "python",
   "pygments_lexer": "ipython3",
   "version": "3.11.4"
  }
 },
 "nbformat": 4,
 "nbformat_minor": 5
}
